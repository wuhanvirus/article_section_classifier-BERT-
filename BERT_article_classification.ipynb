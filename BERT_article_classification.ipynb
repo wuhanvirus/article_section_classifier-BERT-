{
 "cells": [
  {
   "cell_type": "code",
   "execution_count": 2,
   "metadata": {},
   "outputs": [],
   "source": [
    "import numpy as np\n",
    "import pandas as pd\n",
    "import csv\n",
    "import re\n",
    "import random"
   ]
  },
  {
   "cell_type": "code",
   "execution_count": 3,
   "metadata": {},
   "outputs": [],
   "source": [
    "#크롤링한 네이버 뉴스제목 읽기\n",
    "f = open('섹션별_뉴스제목_데이터.csv', 'r')\n",
    "new = csv.reader(f)\n",
    "tmp_data = []\n",
    "f.seek(0)\n",
    "\n",
    "#리스트에 읽어온 데이터 삽입\n",
    "for i in new:\n",
    "    tmp_data.append(i)\n",
    "    \n",
    "f.close()\n",
    "\n",
    "#리스트를 넘파이 배열로 변환\n",
    "random.shuffle(tmp_data)    \n",
    "data = np.array(tmp_data)\n",
    "\n",
    "#7:3 비율로 데이터셋 분리\n",
    "train = data[:11200]\n",
    "test = data[11200:]\n",
    "\n",
    "#트레인과 테스트 데이터 열에 이름을 붙임\n",
    "train_txt = train[:,0]\n",
    "train_label = train[:,1]\n",
    "test_txt = test[:,0]\n",
    "test_label = test[:,1]"
   ]
  },
  {
   "cell_type": "code",
   "execution_count": 5,
   "metadata": {},
   "outputs": [],
   "source": [
    "import transformers\n",
    "from transformers import BertTokenizer\n",
    "\n",
    "tokenizer = BertTokenizer.from_pretrained(\"bert-base-uncased\", do_lower_case=True)\n",
    "\n",
    "def text_processing(text, Max_len):\n",
    "  input_ids = []\n",
    "  mask_ids = []\n",
    "  token_type_ids = []\n",
    "  for line in text:\n",
    "    # [cls], [sep] 추가 Max_len 길이 맞추기  \n",
    "    encoded_line = tokenizer.encode(line, add_special_tokens = True, max_length=Max_len, truncation=True) \n",
    "    input = encoded_line + [0]*(Max_len-len(encoded_line))\n",
    "    token_type =  [0]*len(input)\n",
    "    mask = [1]*len(encoded_line)+[0]*(Max_len-len(encoded_line))    \n",
    "    input_ids.append(torch.tensor(input))\n",
    "    token_type_ids.append(torch.tensor(token_type))\n",
    "    mask_ids.append(torch.tensor(mask))\n",
    "\n",
    "    return input_ids, token_type_ids, mask_ids\n",
    " "
   ]
  },
  {
   "cell_type": "code",
   "execution_count": null,
   "metadata": {},
   "outputs": [],
   "source": []
  }
 ],
 "metadata": {
  "kernelspec": {
   "display_name": "Python 3",
   "language": "python",
   "name": "python3"
  },
  "language_info": {
   "codemirror_mode": {
    "name": "ipython",
    "version": 3
   },
   "file_extension": ".py",
   "mimetype": "text/x-python",
   "name": "python",
   "nbconvert_exporter": "python",
   "pygments_lexer": "ipython3",
   "version": "3.8.3"
  }
 },
 "nbformat": 4,
 "nbformat_minor": 4
}
