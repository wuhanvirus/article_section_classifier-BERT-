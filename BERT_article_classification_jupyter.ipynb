{
 "cells": [
  {
   "cell_type": "code",
   "execution_count": 1,
   "metadata": {},
   "outputs": [],
   "source": [
    "import numpy as np\n",
    "import csv\n",
    "import random\n",
    "import torch\n",
    "import torch.nn as nn"
   ]
  },
  {
   "cell_type": "code",
   "execution_count": 2,
   "metadata": {},
   "outputs": [],
   "source": [
    "#크롤링한 네이버 뉴스제목 읽기\n",
    "f = open('섹션별_뉴스제목_데이터.csv', 'r')\n",
    "new = csv.reader(f)\n",
    "tmp_data = []\n",
    "f.seek(0)\n",
    "\n",
    "#리스트에 읽어온 데이터 삽입\n",
    "for i in new:\n",
    "    tmp_data.append(i)\n",
    "    \n",
    "f.close()\n",
    "\n",
    "#리스트를 넘파이 배열로 변환\n",
    "random.shuffle(tmp_data)    \n",
    "data = np.array(tmp_data)\n",
    "\n",
    "#6:2:2 비율로 데이터셋 분리\n",
    "sep = int(len(data)/5)\n",
    "\n",
    "train = data[:(3*sep)]\n",
    "valid = data[(3*sep):(4*sep)]\n",
    "test = data[(4*sep):]\n",
    "\n",
    "#트레인과 테스트 데이터 열에 이름을 붙임\n",
    "train_text = train[:,0]\n",
    "train_label = train[:,1]\n",
    "train_label = list(map(int, train_label))\n",
    "\n",
    "valid_text = valid[:,0]\n",
    "valid_label = valid[:,1]\n",
    "valid_label = list(map(int, valid_label))\n",
    "\n",
    "test_text = test[:,0]\n",
    "test_label = test[:,1]\n",
    "test_label = list(map(int, test_label))"
   ]
  },
  {
   "cell_type": "code",
   "execution_count": 3,
   "metadata": {},
   "outputs": [],
   "source": [
    "#참조 시작\n",
    "\n",
    "import transformers\n",
    "from transformers import BertTokenizer\n",
    "\n",
    "tokenizer = BertTokenizer.from_pretrained(\"bert-base-multilingual-cased\", do_lower_case=False)\n",
    "\n",
    "\n",
    "#BERT에 넣는 데이터 형식으로 가공\n",
    "def text_processing(text, Max_len):\n",
    "  input_ids = []\n",
    "  mask_ids = []\n",
    "  token_type_ids = []\n",
    "  for line in text:\n",
    "    # [cls], [sep] 추가 Max_len 길이 맞추기  \n",
    "    encoded_line = tokenizer.encode(line, add_special_tokens = True, max_length=Max_len, truncation=True) \n",
    "    input = encoded_line + [0]*(Max_len-len(encoded_line))\n",
    "    token_type =  [0]*len(input)\n",
    "    mask = [1]*len(encoded_line)+[0]*(Max_len-len(encoded_line))    \n",
    "    input_ids.append(torch.tensor(input))\n",
    "    token_type_ids.append(torch.tensor(token_type))\n",
    "    mask_ids.append(torch.tensor(mask))\n",
    "\n",
    "  return input_ids, token_type_ids, mask_ids\n",
    "\n",
    "train_input_ids, train_token_type_ids, train_mask_ids =text_processing(train_text, 128)\n",
    "valid_input_ids, valid_token_type_ids, valid_mask_ids =text_processing(valid_text, 128)\n",
    "test_input_ids, test_token_type_ids, test_mask_ids =text_processing(test_text, 128)"
   ]
  },
  {
   "cell_type": "code",
   "execution_count": 4,
   "metadata": {},
   "outputs": [],
   "source": [
    "from torch.utils.data import Dataset\n",
    "from torch.utils.data import DataLoader\n",
    "\n",
    "class BertCls_dataset(Dataset):\n",
    "  def __init__(self, input_ids, token_type_ids, mask_ids, label):\n",
    "    self.input = input_ids\n",
    "    self.token_type = token_type_ids\n",
    "    self.attn_mask = mask_ids\n",
    "    self.label = label\n",
    "  def __len__(self):\n",
    "    return len(self.input)  \n",
    "\n",
    "  def __getitem__(self, idx):\n",
    "    x = self.input[idx]\n",
    "    y = self.token_type[idx]\n",
    "    z = self.attn_mask[idx]\n",
    "    label = self.label[idx]\n",
    "    label = [label]\n",
    "\n",
    "    return x, y, z ,torch.tensor(label)\n",
    "\n",
    "Batch_size = 16\n",
    "\n",
    "#Datalodaer 만들기\n",
    "train_dataset=BertCls_dataset(train_input_ids, train_token_type_ids, train_mask_ids, train_label)\n",
    "valid_dataset=BertCls_dataset(valid_input_ids, valid_token_type_ids, valid_mask_ids, valid_label)\n",
    "test_dataset=BertCls_dataset(test_input_ids, test_token_type_ids, test_mask_ids, test_label)\n",
    "\n",
    "train_dataloader = DataLoader(train_dataset, batch_size=Batch_size, shuffle=True)\n",
    "valid_dataloader = DataLoader(valid_dataset, batch_size=Batch_size, shuffle=True)\n",
    "test_dataloader = DataLoader(test_dataset, batch_size=Batch_size, shuffle=True)"
   ]
  },
  {
   "cell_type": "code",
   "execution_count": 5,
   "metadata": {},
   "outputs": [],
   "source": [
    "from transformers import BertModel\n",
    "\n",
    "\n",
    "bertcls = BertModel.from_pretrained(\"bert-base-multilingual-cased\")\n",
    "\n",
    "class BertCls(nn.Module):\n",
    "  def __init__(self):\n",
    "    super().__init__()\n",
    "    self.bert_cls = bertcls\n",
    "    self.dropout = nn.Dropout(0.3)\n",
    "    self.relu = nn.ReLU()\n",
    "    self.out = nn.Linear(768*2, num_category)\n",
    "\n",
    "  def forward(self, input_ids, token_type_ids, mask_ids):\n",
    "    output,_ = self.bert_cls(input_ids, attention_mask=mask_ids, token_type_ids=token_type_ids) #output은 hidden_state\n",
    "    apool = torch.mean(output, 1)\n",
    "    mpool, _ = torch.max(output, 1)\n",
    "    x = torch.cat((apool, mpool), 1) #[cls]를 사용하는 방식 대신, mean, max를 한 후 concat한 output을 사용하였다.\n",
    "    x = self.relu(x)\n",
    "    x = self.dropout(x)\n",
    "    x = self.out(x)\n",
    "\n",
    "    return x"
   ]
  },
  {
   "cell_type": "code",
   "execution_count": 6,
   "metadata": {
    "scrolled": false
   },
   "outputs": [
    {
     "name": "stderr",
     "output_type": "stream",
     "text": [
      "\r",
      "  0%|                                                                       | 0/1224 [00:00<?, ?it/s]"
     ]
    },
    {
     "name": "stdout",
     "output_type": "stream",
     "text": [
      "EPOCHS:1\n",
      "TRAIN\n"
     ]
    },
    {
     "name": "stderr",
     "output_type": "stream",
     "text": [
      "100%|████████████████████████████████████████████████████████████| 1224/1224 [10:13<00:00,  1.99it/s]\n",
      "  0%|                                                                        | 0/408 [00:00<?, ?it/s]"
     ]
    },
    {
     "name": "stdout",
     "output_type": "stream",
     "text": [
      " Average training loss: 0.93\n",
      "EVAL\n"
     ]
    },
    {
     "name": "stderr",
     "output_type": "stream",
     "text": [
      "100%|██████████████████████████████████████████████████████████████| 408/408 [00:54<00:00,  7.50it/s]"
     ]
    },
    {
     "name": "stdout",
     "output_type": "stream",
     "text": [
      "auc;0.7380113375210663\n"
     ]
    },
    {
     "name": "stderr",
     "output_type": "stream",
     "text": [
      "\n"
     ]
    }
   ],
   "source": [
    "from tqdm import tqdm\n",
    "from sklearn.metrics import accuracy_score\n",
    "import time\n",
    "\n",
    "#트레이닝 함수\n",
    "def train_one_epoch(data_loader, model, optimizer, device, loss_fn):\n",
    "  \n",
    "  model.train()\n",
    "  tk0 = tqdm(data_loader, total=len(data_loader))\n",
    "  total_loss = 0.0\n",
    "  \n",
    "  for bi, d in enumerate(tk0):\n",
    "      input_ids, token_type_ids, attn_mask_ids, label = d\n",
    "      input_ids = input_ids.to(device, dtype=torch.long)\n",
    "      token_type_ids = token_type_ids.to(device, dtype=torch.long)\n",
    "      attn_mask_ids = attn_mask_ids.to(device, dtype=torch.long)\n",
    "      label = label.to(device, dtype=torch.long)\n",
    "\n",
    "      #model.zero_grad()\n",
    "      output = model(input_ids, token_type_ids, attn_mask_ids)\n",
    "      loss = loss_fn(output, label.view(-1))\n",
    "      total_loss += loss.item()\n",
    "      loss.backward()\n",
    "      optimizer.step()\n",
    "      optimizer.zero_grad()\n",
    "\n",
    "  avg_train_loss = total_loss / len(data_loader) \n",
    "  print(\" Average training loss: {0:.2f}\".format(avg_train_loss))  \n",
    "\n",
    "#eval 함수(test, validation)\n",
    "def eval_one_epoch(data_loader, model,  device, loss_fn):\n",
    "\n",
    "  model.eval()\n",
    "  tk0 = tqdm(data_loader, total=len(data_loader))\n",
    "  fin_targets = []\n",
    "  fin_outputs = []\n",
    "  \n",
    "  with torch.no_grad():\n",
    "\n",
    "    for bi, d in enumerate(tk0):\n",
    "      input_ids, token_type_ids, attn_mask_ids, label = d\n",
    "      input_ids = input_ids.to(device, dtype=torch.long)\n",
    "      token_type_ids = token_type_ids.to(device, dtype=torch.long)\n",
    "      attn_mask_ids = attn_mask_ids.to(device, dtype=torch.long)\n",
    "      label = label.to(device, dtype=torch.long)\n",
    "\n",
    "      output = model(input_ids, token_type_ids, attn_mask_ids)\n",
    "      loss = loss_fn(output, label.view(-1))\n",
    "\n",
    "      output = output.detach().cpu().numpy()\n",
    "      label = label.detach().cpu().numpy()\n",
    "      pred = np.argmax(output, axis=1).flatten()\n",
    "\n",
    "      fin_targets.extend(label.tolist())\n",
    "      fin_outputs.extend(pred.tolist()) \n",
    "        \n",
    "    \n",
    "  return fin_outputs, fin_targets\n",
    "  \n",
    "def fit(train_dataloader, valid_dataloader, EPOCHS=3):\n",
    "  Bert_cls=BertCls() #model\n",
    "  Bert_cls=Bert_cls.to(device)\n",
    "  loss_fn = nn.CrossEntropyLoss() #loss\n",
    "  optimizer = torch.optim.AdamW(Bert_cls.parameters(),lr=lr) #optimizer\n",
    "\n",
    "  for i in range(EPOCHS):\n",
    "    print(f\"EPOCHS:{i+1}\")\n",
    "    print('TRAIN')\n",
    "    train_one_epoch(train_dataloader, Bert_cls, optimizer, device, loss_fn)\n",
    "    print('EVAL')\n",
    "    outputs, targets = eval_one_epoch(valid_dataloader, Bert_cls,  device, loss_fn)\n",
    "    targets = np.array(targets)\n",
    "    auc = accuracy_score(targets, outputs)\n",
    "    print(f\"auc;{auc}\")\n",
    "\n",
    "#참조 끝\n",
    "    \n",
    "  return Bert_cls\n",
    "    \n",
    "    \n",
    "Max_len = 128\n",
    "num_category = 6\n",
    "lr = 3e-5\n",
    "device='cuda'\n",
    "EPOCHS=4\n",
    "\n",
    "#모델 학습(트레이닝 데이터로 파인튜닝)\n",
    "bert_model = fit(train_dataloader, valid_dataloader, EPOCHS)"
   ]
  },
  {
   "cell_type": "code",
   "execution_count": 7,
   "metadata": {},
   "outputs": [
    {
     "name": "stderr",
     "output_type": "stream",
     "text": [
      "  0%|▏                                                               | 1/409 [00:00<00:54,  7.52it/s]"
     ]
    },
    {
     "name": "stdout",
     "output_type": "stream",
     "text": [
      "TEST\n"
     ]
    },
    {
     "name": "stderr",
     "output_type": "stream",
     "text": [
      "100%|██████████████████████████████████████████████████████████████| 409/409 [00:53<00:00,  7.61it/s]"
     ]
    },
    {
     "name": "stdout",
     "output_type": "stream",
     "text": [
      "auc;0.7446775922805943\n"
     ]
    },
    {
     "name": "stderr",
     "output_type": "stream",
     "text": [
      "\n"
     ]
    }
   ],
   "source": [
    "#테스트 데이터 적용\n",
    "\n",
    "loss_fn = nn.CrossEntropyLoss() #loss\n",
    "\n",
    "print('TEST')\n",
    "outputs, targets = eval_one_epoch(test_dataloader, bert_model,  device, loss_fn)\n",
    "targets = np.array(targets)\n",
    "auc = accuracy_score(targets, outputs)\n",
    "print(f\"auc;{auc}\")"
   ]
  },
  {
   "cell_type": "code",
   "execution_count": null,
   "metadata": {},
   "outputs": [],
   "source": []
  }
 ],
 "metadata": {
  "kernelspec": {
   "display_name": "Python 3",
   "language": "python",
   "name": "python3"
  },
  "language_info": {
   "codemirror_mode": {
    "name": "ipython",
    "version": 3
   },
   "file_extension": ".py",
   "mimetype": "text/x-python",
   "name": "python",
   "nbconvert_exporter": "python",
   "pygments_lexer": "ipython3",
   "version": "3.8.3"
  }
 },
 "nbformat": 4,
 "nbformat_minor": 4
}
